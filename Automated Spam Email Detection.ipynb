{
 "cells": [
  {
   "cell_type": "code",
   "execution_count": null,
   "id": "ce1c615a",
   "metadata": {},
   "outputs": [],
   "source": [
    "# Project Title: Automated Spam Email Detection"
   ]
  },
  {
   "cell_type": "code",
   "execution_count": 5,
   "id": "d8f60a07",
   "metadata": {},
   "outputs": [
    {
     "name": "stdout",
     "output_type": "stream",
     "text": [
      "Downloading from https://www.kaggle.com/api/v1/datasets/download/uciml/sms-spam-collection-dataset?dataset_version_number=1...\n"
     ]
    },
    {
     "name": "stderr",
     "output_type": "stream",
     "text": [
      "100%|██████████| 211k/211k [00:00<00:00, 254kB/s]"
     ]
    },
    {
     "name": "stdout",
     "output_type": "stream",
     "text": [
      "Extracting files...\n",
      "Path to dataset files: C:\\Users\\Saikat\\.cache\\kagglehub\\datasets\\uciml\\sms-spam-collection-dataset\\versions\\1\n"
     ]
    },
    {
     "name": "stderr",
     "output_type": "stream",
     "text": [
      "\n"
     ]
    }
   ],
   "source": [
    "import kagglehub\n",
    "\n",
    "# Download latest version\n",
    "path = kagglehub.dataset_download(\"uciml/sms-spam-collection-dataset\")\n",
    "\n",
    "print(\"Path to dataset files:\", path)\n"
   ]
  },
  {
   "cell_type": "code",
   "execution_count": 1,
   "id": "1277101e",
   "metadata": {},
   "outputs": [
    {
     "name": "stderr",
     "output_type": "stream",
     "text": [
      "[nltk_data] Downloading package stopwords to\n",
      "[nltk_data]     C:\\Users\\Saikat\\AppData\\Roaming\\nltk_data...\n",
      "[nltk_data]   Unzipping corpora\\stopwords.zip.\n"
     ]
    },
    {
     "name": "stdout",
     "output_type": "stream",
     "text": [
      "📈 Accuracy: 0.9739910313901345\n",
      "\n",
      "📊 Confusion Matrix:\n",
      " [[949  16]\n",
      " [ 13 137]]\n",
      "\n",
      "📝 Classification Report:\n",
      "               precision    recall  f1-score   support\n",
      "\n",
      "           0       0.99      0.98      0.98       965\n",
      "           1       0.90      0.91      0.90       150\n",
      "\n",
      "    accuracy                           0.97      1115\n",
      "   macro avg       0.94      0.95      0.94      1115\n",
      "weighted avg       0.97      0.97      0.97      1115\n",
      "\n",
      "\n",
      "📤 Sample prediction:\n",
      "'Congratulations! You've won a $1000 Walmart gift card. Click here to claim now.' --> Spam\n"
     ]
    }
   ],
   "source": [
    "import pandas as pd\n",
    "import seaborn as sns\n",
    "import matplotlib.pyplot as plt\n",
    "import string\n",
    "import re\n",
    "import nltk\n",
    "from sklearn.model_selection import train_test_split\n",
    "from sklearn.feature_extraction.text import CountVectorizer\n",
    "from sklearn.naive_bayes import MultinomialNB\n",
    "from sklearn.metrics import accuracy_score, confusion_matrix, classification_report\n",
    "\n",
    "# Download stopwords from NLTK\n",
    "nltk.download('stopwords')\n",
    "from nltk.corpus import stopwords\n",
    "\n",
    "# 📁 Load dataset\n",
    "df = pd.read_csv(\n",
    "    r'C:\\\\Users\\\\Saikat\\\\.cache\\\\kagglehub\\\\datasets\\\\uciml\\\\sms-spam-collection-dataset\\\\versions\\\\1\\\\spam.csv',\n",
    "    encoding='latin-1'\n",
    ")[['v1', 'v2']]\n",
    "df.columns = ['label', 'text']  # Rename columns\n",
    "\n",
    "# 🔍 Text cleaning function\n",
    "def clean_text(text):\n",
    "    text = text.lower()\n",
    "    text = re.sub(r'https?://\\S+|www\\.\\S+', '', text)  # remove URLs\n",
    "    text = re.sub(r'<.*?>', '', text)  # remove HTML\n",
    "    text = re.sub(f\"[{re.escape(string.punctuation)}]\", '', text)  # remove punctuation\n",
    "    words = text.split()\n",
    "    words = [w for w in words if w not in stopwords.words('english')]\n",
    "    return ' '.join(words)\n",
    "\n",
    "# 🧹 Clean the text data\n",
    "df['clean_text'] = df['text'].apply(clean_text)\n",
    "\n",
    "# 🎯 Encode labels: ham=0, spam=1\n",
    "df['label_num'] = df['label'].map({'ham': 0, 'spam': 1})\n",
    "\n",
    "# 📊 Feature extraction\n",
    "X = df['clean_text']\n",
    "y = df['label_num']\n",
    "cv = CountVectorizer()\n",
    "X_vectorized = cv.fit_transform(X)\n",
    "\n",
    "# 🧪 Train/test split\n",
    "X_train, X_test, y_train, y_test = train_test_split(\n",
    "    X_vectorized, y, test_size=0.2, random_state=42\n",
    ")\n",
    "\n",
    "# 🏗️ Train the model\n",
    "model = MultinomialNB()\n",
    "model.fit(X_train, y_train)\n",
    "\n",
    "# ✅ Evaluate the model\n",
    "y_pred = model.predict(X_test)\n",
    "print(\"📈 Accuracy:\", accuracy_score(y_test, y_pred))\n",
    "print(\"\\n📊 Confusion Matrix:\\n\", confusion_matrix(y_test, y_pred))\n",
    "print(\"\\n📝 Classification Report:\\n\", classification_report(y_test, y_pred))\n",
    "\n",
    "# 🔍 Test on a sample email\n",
    "def predict_email(text):\n",
    "    text = clean_text(text)\n",
    "    vector = cv.transform([text])\n",
    "    prediction = model.predict(vector)[0]\n",
    "    return \"Spam\" if prediction else \"Not Spam\"\n",
    "\n",
    "# 🧪 Example\n",
    "sample_email = \"Congratulations! You've won a $1000 Walmart gift card. Click here to claim now.\"\n",
    "result = predict_email(sample_email)\n",
    "print(f\"\\n📤 Sample prediction:\\n'{sample_email}' --> {result}\")\n"
   ]
  },
  {
   "cell_type": "code",
   "execution_count": null,
   "id": "c89ff107",
   "metadata": {},
   "outputs": [],
   "source": []
  }
 ],
 "metadata": {
  "kernelspec": {
   "display_name": ".venv",
   "language": "python",
   "name": "python3"
  },
  "language_info": {
   "codemirror_mode": {
    "name": "ipython",
    "version": 3
   },
   "file_extension": ".py",
   "mimetype": "text/x-python",
   "name": "python",
   "nbconvert_exporter": "python",
   "pygments_lexer": "ipython3",
   "version": "3.12.4"
  }
 },
 "nbformat": 4,
 "nbformat_minor": 5
}
