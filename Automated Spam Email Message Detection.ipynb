# Project Title: Automated Spam Email Message Detection

import kagglehub

# Download latest version
path = kagglehub.dataset_download("uciml/sms-spam-collection-dataset")

print("Path to dataset files:", path)


import pandas as pd
import seaborn as sns
import matplotlib.pyplot as plt
import string
import re
import nltk
from sklearn.model_selection import train_test_split
from sklearn.feature_extraction.text import CountVectorizer
from sklearn.naive_bayes import MultinomialNB
from sklearn.metrics import accuracy_score, confusion_matrix, classification_report

# Download stopwords from NLTK
nltk.download('stopwords')
from nltk.corpus import stopwords

# 📁 Load dataset
df = pd.read_csv(
    r'C:\\Users\\Saikat\\.cache\\kagglehub\\datasets\\uciml\\sms-spam-collection-dataset\\versions\\1\\spam.csv',
    encoding='latin-1'
)[['v1', 'v2']]
df.columns = ['label', 'text']  # Rename columns

# 🔍 Text cleaning function
def clean_text(text):
    text = text.lower()
    text = re.sub(r'https?://\S+|www\.\S+', '', text)  # remove URLs
    text = re.sub(r'<.*?>', '', text)  # remove HTML
    text = re.sub(f"[{re.escape(string.punctuation)}]", '', text)  # remove punctuation
    words = text.split()
    words = [w for w in words if w not in stopwords.words('english')]
    return ' '.join(words)

# 🧹 Clean the text data
df['clean_text'] = df['text'].apply(clean_text)

# 🎯 Encode labels: ham=0, spam=1
df['label_num'] = df['label'].map({'ham': 0, 'spam': 1})

# 📊 Feature extraction
X = df['clean_text']
y = df['label_num']
cv = CountVectorizer()
X_vectorized = cv.fit_transform(X)

# 🧪 Train/test split
X_train, X_test, y_train, y_test = train_test_split(
    X_vectorized, y, test_size=0.2, random_state=42
)

# 🏗️ Train the model
model = MultinomialNB()
model.fit(X_train, y_train)

# ✅ Evaluate the model
y_pred = model.predict(X_test)
print("📈 Accuracy:", accuracy_score(y_test, y_pred))
print("\n📊 Confusion Matrix:\n", confusion_matrix(y_test, y_pred))
print("\n📝 Classification Report:\n", classification_report(y_test, y_pred))

# 🔍 Test on a sample email
def predict_email(text):
    text = clean_text(text)
    vector = cv.transform([text])
    prediction = model.predict(vector)[0]
    return "Spam" if prediction else "Not Spam"

# 🧪 Example
sample_email = "Congratulations! You've won a $1000 Walmart gift card. Click here to claim now."
result = predict_email(sample_email)
print(f"\n📤 Sample prediction:\n'{sample_email}' --> {result}")


